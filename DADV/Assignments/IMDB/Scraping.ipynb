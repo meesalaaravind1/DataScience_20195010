{
 "cells": [
  {
   "cell_type": "code",
   "execution_count": 1,
   "metadata": {},
   "outputs": [],
   "source": [
    "import requests\n",
    "import urllib\n",
    "from bs4 import BeautifulSoup\n",
    "import re\n",
    "import io\n",
    "import gzip"
   ]
  },
  {
   "cell_type": "code",
   "execution_count": 2,
   "metadata": {},
   "outputs": [
    {
     "data": {
      "text/plain": [
       "<a class=\"tracked-offsite-link\" data-ref=\"fea_mn_lk3\" href=\"https://datasets.imdbws.com/\" target=\"_blank\">https://datasets.imdbws.com/</a>"
      ]
     },
     "execution_count": 2,
     "metadata": {},
     "output_type": "execute_result"
    }
   ],
   "source": [
    "url = \"https://www.imdb.com/interfaces/\"\n",
    "page = requests.get(url)\n",
    "soup = BeautifulSoup(page.content, 'html.parser')\n",
    "mytag = soup.find_all(\"a\",text=re.compile(\"https://datasets.imdbws.com/\"))[0]\n",
    "mytag"
   ]
  },
  {
   "cell_type": "code",
   "execution_count": 3,
   "metadata": {},
   "outputs": [],
   "source": [
    "url = mytag.contents[0]\n",
    "page = requests.get(url)\n",
    "soup = BeautifulSoup(page.content, 'html.parser')\n",
    "mytag = soup.find_all(\"a\")"
   ]
  },
  {
   "cell_type": "code",
   "execution_count": 4,
   "metadata": {},
   "outputs": [
    {
     "name": "stdout",
     "output_type": "stream",
     "text": [
      "https://datasets.imdbws.com/name.basics.tsv.gz\n",
      "https://datasets.imdbws.com/title.akas.tsv.gz\n",
      "https://datasets.imdbws.com/title.basics.tsv.gz\n",
      "https://datasets.imdbws.com/title.crew.tsv.gz\n",
      "https://datasets.imdbws.com/title.episode.tsv.gz\n",
      "https://datasets.imdbws.com/title.principals.tsv.gz\n",
      "https://datasets.imdbws.com/title.ratings.tsv.gz\n"
     ]
    }
   ],
   "source": [
    "for a in mytag[1:]:\n",
    "    print(a[\"href\"])"
   ]
  },
  {
   "cell_type": "code",
   "execution_count": 5,
   "metadata": {},
   "outputs": [],
   "source": [
    "filename_url = []\n",
    "filename = re.findall(re.compile(r\"/(name.*)\"),mytag[1][\"href\"])[0][:-3]\n",
    "filename_url.append((filename,mytag[1][\"href\"]))\n",
    "for link in mytag[2:]:\n",
    "    filename = re.findall(re.compile(r\"/(title.*)\"),link[\"href\"])[0][:-3]\n",
    "    filename_url.append((filename,link[\"href\"]))"
   ]
  },
  {
   "cell_type": "code",
   "execution_count": 6,
   "metadata": {},
   "outputs": [
    {
     "data": {
      "text/plain": [
       "[('name.basics.tsv', 'https://datasets.imdbws.com/name.basics.tsv.gz'),\n",
       " ('title.akas.tsv', 'https://datasets.imdbws.com/title.akas.tsv.gz'),\n",
       " ('title.basics.tsv', 'https://datasets.imdbws.com/title.basics.tsv.gz'),\n",
       " ('title.crew.tsv', 'https://datasets.imdbws.com/title.crew.tsv.gz'),\n",
       " ('title.episode.tsv', 'https://datasets.imdbws.com/title.episode.tsv.gz'),\n",
       " ('title.principals.tsv',\n",
       "  'https://datasets.imdbws.com/title.principals.tsv.gz'),\n",
       " ('title.ratings.tsv', 'https://datasets.imdbws.com/title.ratings.tsv.gz')]"
      ]
     },
     "execution_count": 6,
     "metadata": {},
     "output_type": "execute_result"
    }
   ],
   "source": [
    "filename_url"
   ]
  },
  {
   "cell_type": "code",
   "execution_count": 7,
   "metadata": {},
   "outputs": [],
   "source": [
    "for filename,url in filename_url:\n",
    "    response = urllib.request.urlopen(url)\n",
    "    compressed_file = io.BytesIO(response.read())\n",
    "    decompressed_file = gzip.GzipFile(fileobj=compressed_file)\n",
    "    with open(filename,\"wb\") as fd:\n",
    "        fd.write(decompressed_file.read())"
   ]
  },
  {
   "cell_type": "code",
   "execution_count": null,
   "metadata": {},
   "outputs": [],
   "source": []
  }
 ],
 "metadata": {
  "kernelspec": {
   "display_name": "Python 3",
   "language": "python",
   "name": "python3"
  },
  "language_info": {
   "codemirror_mode": {
    "name": "ipython",
    "version": 3
   },
   "file_extension": ".py",
   "mimetype": "text/x-python",
   "name": "python",
   "nbconvert_exporter": "python",
   "pygments_lexer": "ipython3",
   "version": "3.7.1"
  }
 },
 "nbformat": 4,
 "nbformat_minor": 2
}
