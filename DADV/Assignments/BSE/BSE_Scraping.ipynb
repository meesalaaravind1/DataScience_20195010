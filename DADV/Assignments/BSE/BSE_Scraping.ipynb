{
 "cells": [
  {
   "cell_type": "code",
   "execution_count": 1,
   "metadata": {},
   "outputs": [
    {
     "name": "stdout",
     "output_type": "stream",
     "text": [
      "Requirement already satisfied: bs4 in c:\\users\\laksh\\anaconda3\\envs\\rstudio\\lib\\site-packages (0.0.1)\n",
      "Requirement already satisfied: beautifulsoup4 in c:\\users\\laksh\\anaconda3\\envs\\rstudio\\lib\\site-packages (from bs4) (4.9.3)\n",
      "Requirement already satisfied: soupsieve>1.2; python_version >= \"3.0\" in c:\\users\\laksh\\anaconda3\\envs\\rstudio\\lib\\site-packages (from beautifulsoup4->bs4) (2.2.1)\n",
      "Note: you may need to restart the kernel to use updated packages.\n"
     ]
    }
   ],
   "source": [
    "pip install bs4"
   ]
  },
  {
   "cell_type": "code",
   "execution_count": 2,
   "metadata": {},
   "outputs": [
    {
     "name": "stdout",
     "output_type": "stream",
     "text": [
      "Requirement already satisfied: selenium in c:\\users\\laksh\\anaconda3\\envs\\rstudio\\lib\\site-packages (3.141.0)\n",
      "Requirement already satisfied: urllib3 in c:\\users\\laksh\\anaconda3\\envs\\rstudio\\lib\\site-packages (from selenium) (1.25.11)\n",
      "Note: you may need to restart the kernel to use updated packages.\n"
     ]
    }
   ],
   "source": [
    "pip install selenium"
   ]
  },
  {
   "cell_type": "code",
   "execution_count": 3,
   "metadata": {},
   "outputs": [
    {
     "name": "stdout",
     "output_type": "stream",
     "text": [
      "Requirement already satisfied: webdriver_manager in c:\\users\\laksh\\anaconda3\\envs\\rstudio\\lib\\site-packages (3.4.2)Note: you may need to restart the kernel to use updated packages.\n",
      "Requirement already satisfied: configparser in c:\\users\\laksh\\anaconda3\\envs\\rstudio\\lib\\site-packages (from webdriver_manager) (5.0.2)\n",
      "Requirement already satisfied: crayons in c:\\users\\laksh\\anaconda3\\envs\\rstudio\\lib\\site-packages (from webdriver_manager) (0.4.0)\n",
      "Requirement already satisfied: requests in c:\\users\\laksh\\anaconda3\\envs\\rstudio\\lib\\site-packages (from webdriver_manager) (2.24.0)\n",
      "Requirement already satisfied: colorama in c:\\users\\laksh\\anaconda3\\envs\\rstudio\\lib\\site-packages (from crayons->webdriver_manager) (0.4.4)\n",
      "Requirement already satisfied: chardet<4,>=3.0.2 in c:\\users\\laksh\\anaconda3\\envs\\rstudio\\lib\\site-packages (from requests->webdriver_manager) (3.0.4)\n",
      "Requirement already satisfied: certifi>=2017.4.17 in c:\\users\\laksh\\anaconda3\\envs\\rstudio\\lib\\site-packages (from requests->webdriver_manager) (2020.6.20)\n",
      "Requirement already satisfied: urllib3!=1.25.0,!=1.25.1,<1.26,>=1.21.1 in c:\\users\\laksh\\anaconda3\\envs\\rstudio\\lib\\site-packages (from requests->webdriver_manager) (1.25.11)\n",
      "Requirement already satisfied: idna<3,>=2.5 in c:\\users\\laksh\\anaconda3\\envs\\rstudio\\lib\\site-packages (from requests->webdriver_manager) (2.10)\n",
      "\n"
     ]
    }
   ],
   "source": [
    "pip install webdriver_manager"
   ]
  },
  {
   "cell_type": "code",
   "execution_count": 4,
   "metadata": {},
   "outputs": [
    {
     "name": "stdout",
     "output_type": "stream",
     "text": [
      "Requirement already satisfied: pandas in c:\\users\\laksh\\anaconda3\\envs\\rstudio\\lib\\site-packages (1.2.4)\n",
      "Requirement already satisfied: python-dateutil>=2.7.3 in c:\\users\\laksh\\anaconda3\\envs\\rstudio\\lib\\site-packages (from pandas) (2.8.1)\n",
      "Requirement already satisfied: pytz>=2017.3 in c:\\users\\laksh\\anaconda3\\envs\\rstudio\\lib\\site-packages (from pandas) (2020.1)\n",
      "Requirement already satisfied: numpy>=1.16.5 in c:\\users\\laksh\\anaconda3\\envs\\rstudio\\lib\\site-packages (from pandas) (1.20.3)\n",
      "Requirement already satisfied: six>=1.5 in c:\\users\\laksh\\anaconda3\\envs\\rstudio\\lib\\site-packages (from python-dateutil>=2.7.3->pandas) (1.15.0)\n",
      "Note: you may need to restart the kernel to use updated packages.\n"
     ]
    }
   ],
   "source": [
    "pip install pandas"
   ]
  },
  {
   "cell_type": "code",
   "execution_count": 5,
   "metadata": {},
   "outputs": [
    {
     "name": "stderr",
     "output_type": "stream",
     "text": [
      "\n",
      "\n",
      "====== WebDriver manager ======\n",
      "Current google-chrome version is 91.0.4472\n",
      "Get LATEST driver version for 91.0.4472\n",
      "Driver [C:\\Users\\laksh\\.wdm\\drivers\\chromedriver\\win32\\91.0.4472.19\\chromedriver.exe] found in cache\n"
     ]
    }
   ],
   "source": [
    "import requests\n",
    "import urllib\n",
    "from bs4 import BeautifulSoup\n",
    "import re\n",
    "import io\n",
    "import gzip\n",
    "import time\n",
    "import csv\n",
    "from selenium import webdriver\n",
    "from selenium.webdriver.common.keys import Keys\n",
    "from webdriver_manager.chrome import ChromeDriverManager\n",
    "import pandas as pd\n",
    "import glob\n",
    "import multiprocessing\n",
    "from multiprocessing import Pool\n",
    "\n",
    "driver = webdriver.Chrome(ChromeDriverManager().install())\n",
    "\n",
    "url = \"https://www.bseindia.com/corporates/List_Scrips.aspx\"\n",
    "driver.get(url)\n",
    "\n",
    "segment = \"Equity\"\n",
    "status = \"Active\"\n",
    "\n",
    "segment_element = driver.find_element_by_xpath('//*[@id=\"ContentPlaceHolder1_ddSegment\"]')\n",
    "segment_element.send_keys(segment)\n",
    "\n",
    "status_element = driver.find_element_by_xpath('//*[@id=\"ContentPlaceHolder1_ddlStatus\"]')\n",
    "status_element.send_keys(status)\n",
    "\n",
    "submit = driver.find_element_by_xpath('//*[@id=\"ContentPlaceHolder1_btnSubmit\"]')\n",
    "submit.send_keys(Keys.RETURN)\n",
    "\n",
    "\n",
    "download = driver.find_element_by_xpath(\n",
    "    '/html/body/div[1]/form/div[4]/div/div/div[2]/div/div/div[2]/a/i')\n",
    "download.click()\n",
    "time.sleep(5)\n",
    "driver.quit()\n",
    "\n",
    "df_equity = pd.read_csv(\"C:/Users/MEESALA ARAVIND/Downloads/Equity.csv\")\n",
    "security_numbers = df_equity[\"Security Code\"].tolist()\n",
    "security_n = df_equity[\"Security Name\"].tolist()\n",
    "security_names = dict(zip(security_numbers, security_n))\n",
    "\n",
    "store_cache = {}\n",
    "\n",
    "def get_stocks(nums):\n",
    "    \n",
    "    def get_date(d,m,y):\n",
    "        year = driver.find_element_by_xpath('/html/body/div[1]/div/div/select[2]')   \n",
    "        for opt in year.find_elements_by_tag_name(\"option\"):\n",
    "            if opt.text == y:\n",
    "                opt.click()\n",
    "                break\n",
    "        month = driver.find_element_by_xpath('/html/body/div[1]/div/div/select[1]')   \n",
    "        for opt in month.find_elements_by_tag_name(\"option\"):\n",
    "            if opt.text == m:\n",
    "                opt.click()\n",
    "                break\n",
    "        days = driver.find_element_by_xpath('/html/body/div[1]/table')\n",
    "        for row in days.find_elements_by_tag_name('tr'):\n",
    "            for col in row.find_elements_by_tag_name('td'):\n",
    "                if col.text == d:\n",
    "                    row.click()\n",
    "                    return\n",
    "\n",
    "    def traverse_stock(security):\n",
    "        if security in store_cache:\n",
    "            return None\n",
    "#         print(security, type(security))\n",
    "        element = driver.find_element_by_xpath('//*[@id=\"ContentPlaceHolder1_smartSearch\"]')\n",
    "        element.clear()\n",
    "        element.send_keys(security)\n",
    "        element.send_keys(Keys.ENTER)\n",
    "        time.sleep(2)\n",
    "        try:\n",
    "            response = driver.find_element_by_xpath(\"/html/body/form/div[4]/div/div/div[1]/div/div[3]/div/div/table/tbody/tr[2]/td/div/div[2]/div/div/div[2]/div[1]/table/tbody/tr/td/div/div/div/ul/li\")\n",
    "        except Exception as e:\n",
    "            pass\n",
    "\n",
    "        if response.text == \"No Match Found\":\n",
    "            return None\n",
    "        else:\n",
    "            from_date = driver.find_element_by_xpath('//*[@id=\"ContentPlaceHolder1_txtFromDate\"]')\n",
    "            from_date.clear()\n",
    "            from_date.click()\n",
    "            get_date(\"31\",\"Dec\",\"2015\")\n",
    "            to_date = driver.find_element_by_xpath('//*[@id=\"ContentPlaceHolder1_txtToDate\"]')\n",
    "            to_date.clear()\n",
    "            to_date.click()\n",
    "            get_date(\"31\",\"Dec\",\"2020\")\n",
    "            submit = driver.find_element_by_xpath('//*[@id=\"ContentPlaceHolder1_btnSubmit\"]')\n",
    "            submit.click()\n",
    "            time.sleep(2)\n",
    "            store_stock(security)\n",
    "            store_cache[security] = True\n",
    "\n",
    "\n",
    "    def store_stock(security):\n",
    "        download_stock = driver.find_element_by_xpath(\"/html/body/form/div[4]/div/div/div[1]/div/div[4]/div/div/div[1]/div[4]/div[2]/div/span/a/i\")\n",
    "        download_stock.click()\n",
    "    \n",
    "#     print(nums)\n",
    "    chromeOptions = webdriver.ChromeOptions()\n",
    "    chromeOptions.add_argument(\"--headless\")\n",
    "    driver = webdriver.Chrome(ChromeDriverManager().install(),chrome_options=chromeOptions)\n",
    "    url = \"https://www.bseindia.com/markets/equity/EQReports/StockPrcHistori.aspx?flag=0\"\n",
    "    driver.get(url)\n",
    "    traverse_stock(str(nums))\n",
    "    time.sleep(8)\n",
    "    driver.quit()\n"
   ]
  },
  {
   "cell_type": "code",
   "execution_count": null,
   "metadata": {},
   "outputs": [],
   "source": [
    "import requests\n",
    "import urllib\n",
    "from bs4 import BeautifulSoup\n",
    "import re\n",
    "import io\n",
    "import gzip\n",
    "import time\n",
    "import csv\n",
    "from selenium import webdriver\n",
    "from selenium.webdriver.common.keys import Keys\n",
    "from webdriver_manager.chrome import ChromeDriverManager\n",
    "import pandas as pd\n",
    "import glob\n",
    "import multiprocessing\n",
    "from multiprocessing import Pool\n",
    "#from ipynb.fs.full.BSE_Scraping_defs_Copy1 import *\n",
    "\n",
    "\n",
    "if __name__ == \"__main__\":\n",
    "    p = Pool(8)\n",
    "    p.map(get_stocks, security_numbers)"
   ]
  }
 ],
 "metadata": {
  "kernelspec": {
   "display_name": "Python 3",
   "language": "python",
   "name": "python3"
  },
  "language_info": {
   "codemirror_mode": {
    "name": "ipython",
    "version": 3
   },
   "file_extension": ".py",
   "mimetype": "text/x-python",
   "name": "python",
   "nbconvert_exporter": "python",
   "pygments_lexer": "ipython3",
   "version": "3.8.3"
  }
 },
 "nbformat": 4,
 "nbformat_minor": 4
}
